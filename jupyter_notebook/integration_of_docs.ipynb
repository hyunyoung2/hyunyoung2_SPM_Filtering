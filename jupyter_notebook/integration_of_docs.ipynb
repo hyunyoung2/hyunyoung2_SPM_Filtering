{
 "cells": [
  {
   "cell_type": "code",
   "execution_count": 1,
   "metadata": {},
   "outputs": [
    {
     "name": "stdout",
     "output_type": "stream",
     "text": [
      "checking the number of lines  with newline(EOL)....\n",
      "/home/hyunyoung2/My_lab/smart_conference/data/Text/test/test_HAM-asp-utf8-5000aa : 5000\n",
      "/home/hyunyoung2/My_lab/smart_conference/data/Text/test/test_SPM-asp-utf8-5000aa : 5000\n",
      "/home/hyunyoung2/My_lab/smart_conference/data/Text/train/train_20170616-asp-utf8-5000.ham_aa : 49993\n",
      "/home/hyunyoung2/My_lab/smart_conference/data/Text/train/train_20170616-asp-utf8-5000.spm_aa : 50000\n",
      "chekcing is all done!!\n",
      "checking the integrated docs....\n",
      "/home/hyunyoung2/My_lab/smart_conference/data/Text/whole_text : 109993\n"
     ]
    }
   ],
   "source": [
    "# Author: hyunyoung2\n",
    "\n",
    "#path : 0 -> ham, 1 -> spm\n",
    "testPath=[\"/home/hyunyoung2/My_lab/smart_conference/data/Text/test/test_HAM-asp-utf8-5000aa\",\n",
    "        \"/home/hyunyoung2/My_lab/smart_conference/data/Text/test/test_SPM-asp-utf8-5000aa\"]\n",
    "trainPath=[\"/home/hyunyoung2/My_lab/smart_conference/data/Text/train/train_20170616-asp-utf8-5000.ham_aa\",\n",
    "        \"/home/hyunyoung2/My_lab/smart_conference/data/Text/train/train_20170616-asp-utf8-5000.spm_aa\"]\n",
    "\n",
    "destination=\"/home/hyunyoung2/My_lab/smart_conference/data/Text/whole_text\"\n",
    "\n",
    "def readAFileWithoutNewline(file):\n",
    "    f = open(file, \"r\")\n",
    "    \n",
    "    # Because of iconv program, Error a little happens in converting EUC-KR(or CP949) to UTF-8\n",
    "    lineByLine = [x for x in f.readlines() if x != \"\\n\"]    \n",
    "    \n",
    "    # Remove Unicode space \n",
    "    for lineIdx, lineStr in enumerate(lineByLine):\n",
    "        lineByLine[lineIdx] = \" \".join(lineStr.split()) + \"\\n\"\n",
    "\n",
    "    f.close()\n",
    "    \n",
    "    return lineByLine\n",
    "\n",
    "def checkingBlankLine(file):\n",
    "    temp=readAFileWithoutNewline(file)\n",
    "    print(file, \":\", len(temp))\n",
    "    return temp\n",
    "\n",
    "def main():\n",
    "    print(\"checking the number of lines  with newline(EOL)....\")\n",
    "    with open(destination, \"w\") as wf:\n",
    "        for p in [testPath, trainPath]:\n",
    "            for file in p:\n",
    "                for idx, var in enumerate(checkingBlankLine(file)):\n",
    "                    wf.write(var)\n",
    "                \n",
    "    print(\"chekcing is all done!!\")\n",
    "    print(\"checking the integrated docs....\")\n",
    "    print(destination, \":\", len(readAFileWithoutNewline(destination)))\n",
    "        \n",
    "if __name__ == \"__main__\":\n",
    "    main()"
   ]
  },
  {
   "cell_type": "code",
   "execution_count": 3,
   "metadata": {},
   "outputs": [
    {
     "name": "stdout",
     "output_type": "stream",
     "text": [
      "99993\n"
     ]
    }
   ],
   "source": [
    "def readAFileWithoutNewline(file):\n",
    "    f = open(file, \"r\")\n",
    "    \n",
    "    # Because of iconv program, Error a little happens in converting EUC-KR(or CP949) to UTF-8\n",
    "    lineByLine = [x for x in f.readlines() if x != \"\\n\"]    \n",
    "    \n",
    "    f.close()\n",
    "    \n",
    "    print(len(lineByLine))\n",
    "    \n",
    "readAFileWithoutNewline(\"/home/hyunyoung2/My_lab/smart_conference/data/SVM_Light/train/CBOW_SVM_Light_train\")\n",
    "    \n",
    "    "
   ]
  }
 ],
 "metadata": {
  "kernelspec": {
   "display_name": "Python 3",
   "language": "python",
   "name": "python3"
  },
  "language_info": {
   "codemirror_mode": {
    "name": "ipython",
    "version": 3
   },
   "file_extension": ".py",
   "mimetype": "text/x-python",
   "name": "python",
   "nbconvert_exporter": "python",
   "pygments_lexer": "ipython3",
   "version": "3.5.2"
  }
 },
 "nbformat": 4,
 "nbformat_minor": 2
}
